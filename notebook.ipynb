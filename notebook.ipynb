{
 "cells": [
  {
   "cell_type": "code",
   "execution_count": 26,
   "id": "c772f622",
   "metadata": {},
   "outputs": [],
   "source": [
    "import numpy as np\n",
    "import matplotlib.pyplot as plt\n",
    "import time"
   ]
  },
  {
   "cell_type": "code",
   "execution_count": 59,
   "id": "13699f28",
   "metadata": {},
   "outputs": [
    {
     "data": {
      "text/plain": [
       "<matplotlib.image.AxesImage at 0x11f9e34c0>"
      ]
     },
     "execution_count": 59,
     "metadata": {},
     "output_type": "execute_result"
    }
   ],
   "source": [
    "m = np.zeros((15, 15), dtype=bool)\n",
    "m[1:4, 3] = True\n",
    "m[3, 2] = True\n",
    "m[2, 1] = True\n",
    "plt.imshow(m)"
   ]
  },
  {
   "cell_type": "code",
   "execution_count": 54,
   "id": "a0a0af3c",
   "metadata": {},
   "outputs": [],
   "source": [
    "def update(grid):\n",
    "    # Compute the number of alive neighbors for each cell\n",
    "    neighbors = (grid[:-2, :-2] + grid[:-2, 1:-1] + grid[:-2, 2:] +\n",
    "                grid[1:-1, :-2] + grid[1:-1, 2:] +\n",
    "                grid[2:, :-2] + grid[2:, 1:-1] + grid[2:, 2:])\n",
    "\n",
    "    # Apply the Game of Life rules\n",
    "    birth = (neighbors == 3) & (grid[1:-1, 1:-1] == 0)\n",
    "    survive = ((neighbors == 2) | (neighbors == 3)) & (grid[1:-1, 1:-1] == 1)\n",
    "    grid[...] = 0\n",
    "    grid[1:-1, 1:-1][birth | survive] = 1\n",
    "    return grid"
   ]
  },
  {
   "cell_type": "code",
   "execution_count": 42,
   "id": "349f878c",
   "metadata": {},
   "outputs": [
    {
     "data": {
      "text/plain": [
       "array([[0, 1, 1, 1, 0, 1, 0],\n",
       "       [1, 1, 0, 1, 0, 1, 0],\n",
       "       [1, 0, 0, 1, 0, 1, 1],\n",
       "       [0, 0, 1, 1, 0, 1, 1],\n",
       "       [1, 1, 1, 1, 1, 0, 0],\n",
       "       [0, 1, 1, 0, 1, 1, 0],\n",
       "       [0, 0, 0, 1, 1, 1, 0]], dtype=int32)"
      ]
     },
     "execution_count": 42,
     "metadata": {},
     "output_type": "execute_result"
    }
   ],
   "source": [
    "from scipy import signal\n",
    "a = np.random.randint(2, size=(7, 7), dtype=np.int32)\n",
    "a"
   ]
  },
  {
   "cell_type": "code",
   "execution_count": 45,
   "id": "9fa33d76",
   "metadata": {},
   "outputs": [
    {
     "data": {
      "text/plain": [
       "array([[1, 1, 1],\n",
       "       [1, 0, 1],\n",
       "       [1, 1, 1]])"
      ]
     },
     "execution_count": 45,
     "metadata": {},
     "output_type": "execute_result"
    }
   ],
   "source": [
    "filt = np.array([[1, 1, 1], [1, 0, 1], [1, 1, 1]])\n",
    "filt"
   ]
  },
  {
   "cell_type": "code",
   "execution_count": 49,
   "id": "5fa10dc5",
   "metadata": {},
   "outputs": [
    {
     "data": {
      "text/plain": [
       "array([[3, 3, 4, 2, 4, 1, 2],\n",
       "       [3, 4, 6, 3, 6, 3, 4],\n",
       "       [2, 4, 5, 3, 6, 4, 4],\n",
       "       [3, 5, 5, 5, 6, 4, 3],\n",
       "       [2, 5, 6, 6, 5, 5, 3],\n",
       "       [3, 4, 5, 7, 6, 4, 2],\n",
       "       [1, 2, 3, 3, 4, 3, 2]])"
      ]
     },
     "execution_count": 49,
     "metadata": {},
     "output_type": "execute_result"
    }
   ],
   "source": [
    "signal.convolve(a, filt)[1:-1,1:-1]"
   ]
  },
  {
   "cell_type": "code",
   "execution_count": 29,
   "id": "a899d37d",
   "metadata": {},
   "outputs": [
    {
     "data": {
      "text/plain": [
       "<contextlib.ExitStack at 0x1128b3f70>"
      ]
     },
     "execution_count": 29,
     "metadata": {},
     "output_type": "execute_result"
    }
   ],
   "source": [
    "import matplotlib.pyplot as plt\n",
    "from matplotlib.animation import FuncAnimation\n",
    "from IPython import display\n",
    "from functools import partial\n",
    "\n",
    "# Turn off matplotlib plot in Notebook\n",
    "plt.ioff()"
   ]
  },
  {
   "cell_type": "code",
   "execution_count": 60,
   "id": "1bdd989d",
   "metadata": {},
   "outputs": [
    {
     "data": {
      "text/html": [
       "<video width=\"640\" height=\"480\" controls autoplay loop>\n",
       "  <source type=\"video/mp4\" src=\"data:video/mp4;base64,AAAAIGZ0eXBNNFYgAAACAE00ViBpc29taXNvMmF2YzEAAAAIZnJlZQAAIc9tZGF0AAACrgYF//+q\n",
       "3EXpvebZSLeWLNgg2SPu73gyNjQgLSBjb3JlIDE2NCByMzA5NSBiYWVlNDAwIC0gSC4yNjQvTVBF\n",
       "Ry00IEFWQyBjb2RlYyAtIENvcHlsZWZ0IDIwMDMtMjAyMiAtIGh0dHA6Ly93d3cudmlkZW9sYW4u\n",
       "b3JnL3gyNjQuaHRtbCAtIG9wdGlvbnM6IGNhYmFjPTEgcmVmPTMgZGVibG9jaz0xOjA6MCBhbmFs\n",
       "eXNlPTB4MzoweDExMyBtZT1oZXggc3VibWU9NyBwc3k9MSBwc3lfcmQ9MS4wMDowLjAwIG1peGVk\n",
       "X3JlZj0xIG1lX3JhbmdlPTE2IGNocm9tYV9tZT0xIHRyZWxsaXM9MSA4eDhkY3Q9MSBjcW09MCBk\n",
       "ZWFkem9uZT0yMSwxMSBmYXN0X3Bza2lwPTEgY2hyb21hX3FwX29mZnNldD0tMiB0aHJlYWRzPTEy\n",
       "IGxvb2thaGVhZF90aHJlYWRzPTIgc2xpY2VkX3RocmVhZHM9MCBucj0wIGRlY2ltYXRlPTEgaW50\n",
       "ZXJsYWNlZD0wIGJsdXJheV9jb21wYXQ9MCBjb25zdHJhaW5lZF9pbnRyYT0wIGJmcmFtZXM9MyBi\n",
       "X3B5cmFtaWQ9MiBiX2FkYXB0PTEgYl9iaWFzPTAgZGlyZWN0PTEgd2VpZ2h0Yj0xIG9wZW5fZ29w\n",
       "PTAgd2VpZ2h0cD0yIGtleWludD0yNTAga2V5aW50X21pbj02IHNjZW5lY3V0PTQwIGludHJhX3Jl\n",
       "ZnJlc2g9MCByY19sb29rYWhlYWQ9NDAgcmM9Y3JmIG1idHJlZT0xIGNyZj0yMy4wIHFjb21wPTAu\n",
       "NjAgcXBtaW49MCBxcG1heD02OSBxcHN0ZXA9NCBpcF9yYXRpbz0xLjQwIGFxPTE6MS4wMACAAAAH\n",
       "imWIhAAR//73iB8yy2n5OtdyEeetLq0fUO5GcV6kvf4gAAADAAADAABlQN8pUH95cNzgAAAE8ADA\n",
       "TP/gzT/xAdOhvjK589dosXyEgtVN1yBob8W/zfpfEW9wjjOAA7kt6H/wsN/3I+E/jBefrBL7B0UT\n",
       "b6vZFtNcY0AnzoiU69rCy9GbPADzQhQVGlkdMlshJXh7iXf7aWT7BZHYAXHHHZkIZSifT4YROKfH\n",
       "3khd2+ek9wAHSjCSE43aYp1uVDU10lGKIkjMM65971MuDa3vF2d2UWgjgSnyU/8NE0XDppH0DYtt\n",
       "pKW1LaE/feT4eQknELVc4FwUbdUJDT4zIZDT9xKWAAQAAivCl0miGFnJcwof+gvFGqdTSEzEejSq\n",
       "VHJxLSBLZqXxHm2d44NRjS7n1uaAadLXIMydsevuBswKJttgWqDc+bU3VC3HZPEb+X5jMPN3KBAl\n",
       "IVGh+06hiW+4ly/5yp0oyTkZNRwHNjOyzgD2OCxW5O6qmGs/4R/5e+PF/LPqD7B0POtDHCEKK8Co\n",
       "MM1LgG2IS3aic9yzP3WzO/1WKsKmEmBx1VyQV1+PEjntwHZZCnjMqNPO6YAhppZUuxEgOQYXETEO\n",
       "xMX8PVrr9OAXmd/QxIJia1uAxQt4HRMDsccpnJ5oUOdJF6XP2x5oECRYJfWQvwKEoy6gvXJXbkWR\n",
       "hGQrudGwEfLq+gc+08Lu05p+7MrqcWtOdQztLoks1Eidl3lkfS0TmEB3+q9eHlWgxNLUdYr+YLs2\n",
       "oUswyivUpRLCd9LxCP1mAchXzJ861hYGZ75JhFavudN+0efJmky8at1is3vVp+MJ4fKHAd4pMjPU\n",
       "D45whhgHGVDMV5BBR94gRJSb3cQ+1JMvzAm5SqoX8byMwO1AXRVqFlvdhI5vhhOqtSom8jDic0W/\n",
       "134C06hdg9TUp2uKnS+nY3yG6rIvuUIlnGFcX7N7z3pviPnhdPT7QPijWlvfE4NwCIDf/9wsc6TL\n",
       "cvdDHNfaHFO33bXR/EaZI6pP80vM2AHTBhrrBdljB5Jpvcerq6xAEA3vZ3+PZ+n25WYt528/FBRe\n",
       "IjrPWqZVf9m1QQhJcOu/v2dHZ3EweDRhY+QWdRstdshLdK7GAEt5MPE+t4pg9JqJavQiC1hQf41e\n",
       "rs0vx/z1+ODu3rpT9IE8NqLZzLupIwtpK3HZvtjNI9g99D3DtLDQS4wB67/czvRbcYTcSx5gPchk\n",
       "OmvjbjDbWjV5nLlfxD0EuA1HU+3n/wRYAQUN6v2utqBGwkz+k1s0Dse/vZa6iW866u/2BC4nRAvc\n",
       "hBzULBPAP59Ey8P8tnJ4E6hajvxrfRCkaDJMqpyi56aZM+5rw9r0BZLw88bihqGkk7Qk8DBZalgm\n",
       "piHOvsZd6dK+M8TQ33WZxa+PZZlKV+woCQrOH61oU1cl7deObATbehWEAA1Wmt4X5YWjm8Q9eIHy\n",
       "a0NKv4hHxuI8fe4zi3gHv4KrkflT0nbCDvpgHv5V1nocEmVisSVWxRdXalfHOKC1liukdKFPHE8m\n",
       "eiuh1ZrgU4xx8ufrkqro+j2jVhJaTFikM6s4fqPvItBFeqnxXsdoqbn7TgIaeAfyzBa9Vtkplb39\n",
       "tkwmibjSrd93E0JUqKux6ZLFKtJiSNwWoc5PEQDBR46ArVbgHfjqpTR9Uek7HMdlbC2k+l1RovqC\n",
       "hSgM7fdUcl70Nf/MKT+Xv+7zf+SQvRcXDuUHV3riKAfNR4b8sVhczu9Lc+f36W694Hn7S8ycyfAe\n",
       "hXwauAuhb9Gra69hisAxc/Ad02h9Zl7z6ouwEt0/AY6CAO38+RljPXGrM8H592hD1g1jLgsz5oOS\n",
       "RGgq0D+3R/ox4e64Kx/cBX8tlbOhCcHbCFnZpAHHcJ2DAgOKreM+IN7BoX8I2HtQHyMnMqSAnDqN\n",
       "63PC+tBRk+evq/srfsGRbB1Qj1Ak62No2N/1lf57CjHdLezdGBgQZxNIGMQ5DoLoCcOQ6x/3YKIK\n",
       "1A3pYDYjt/I8o/yJDlYJzYsx7xuXgAV+UbFKLotfezZ69l8fWNiuC75DZUW02pL+gMu7W6JNuvTt\n",
       "v5TxMS72N8p8JBql2EQgRN3fnJPsR816n5cpES/glBKuWVYdDCMk8g99FKss2AM70/LvrwPt9q/n\n",
       "fIJM/xOPhjlDPBsB10FKOo5Dt/44Obg73J6S48uS9a53q9RUdj/Eied7Jp38RO/tkTCij1rCRMPJ\n",
       "47CGO/J6Bkn8qQz4H5KiNJsNBUYioTmm36GbgXSaRj0ep/8j3UF25YcqLWESRtI+uwdl+L4TLy9M\n",
       "8bnZV3VzJgNdiX2uFrVrvqVl5ECbtXXofT005uVsDCJv3XcCuwmm9OXdoxU1xwe+vLjtKUYrRYuC\n",
       "OxiKIhV+vXkxVsrIb4Uz0IZ5G7KxrC9sqzwaxftWvngfWjjOSNZEMuvFsiWKqt67wa/U9Eyco3/h\n",
       "pMnE/LtNRv9msoygyINuUXln72/g4I9/+lRY0KJ/kjJYIdU5wBjY3wPc+ME1acubRJuUfRmbaAcL\n",
       "N6xHEuhfkTEKRUkcmtzRKuvsWEn4GVS1jfq6Zqv++G+LMIxRv1rjj9gAFxV6iAQADJkAAAFFQZoh\n",
       "bEEf/rUqgAGeuA6yZILr8fGFbCMXfsqVBfx8kDRRHYgiW9isHkEWIYAJVxWWDMI4O47S4kvargGx\n",
       "OWaStO6javQSf741kYwpJdk34d+NPf4AVS0Jw7R+4JO+vBlMGJj6MdnwQ4P60BimcJEBPIdI7yNy\n",
       "aIXmGW6CpoJ7I2pyamAtevZdsfF/n4l4gqp3j2uL9UP76xBiZ+avMvFkYWEhCnMw8QLVeLkbnh7f\n",
       "PEzLB27lG1uEBT4hnpVaxmd+zwoVfTWuWO4phK0ujeY8BpsXOWgdXX6Tdcdb5DNV2FpS2Q5uPrGO\n",
       "cwKExJmWINMXPJVrpfO7bwVz1d1zPnLEEn3UOQYdGY08DLVWi9FE+P+jR1V4aOt+JAi3hRA5a+rJ\n",
       "9y/unOV13AS6H6pIcLpEXsmAaea13yHT5SjKgE6BuW5XoAAM+AAAAHtBmkI8IZMphBH//rUqgAAG\n",
       "M+PmSumwdXuEqr30YUyMAyrqjAzf327EcuoAFzBX/XzCw+WzVH/pP723ujgO+OmLNtA2R+MXJdrV\n",
       "8CeRonVKBP6s9YhD5lUTwTrdGspvxIdFppIfjzdrI4ZvGJ39eNNtwHE1TnESvlYACzkAAACvQZpk\n",
       "SeEPJlMFPBH//rUqgAAAy3x8yV02K9fyMhwsiYAFv3fuYQFh0W/qLn3kjJLt5vnx5U+dtEvBW1uA\n",
       "ft0ISMwhP8xwyIO7Bf8JQmLmZ0v//DAHbP0XQBrx6FP2twKlQTgus0rtq4FRxMF8lkk9OS/A9fck\n",
       "8kh9wAU65q1kttpSPDtt24DSwWuJ3bftvFytLy6QO4GxkQz64ic4aG4MnGXLo6ptpd4Qhe+oEAAf\n",
       "4AAAAKUBnoNqQ78AABbiOx6koAPKSopk1Zn4rdujDgkTgiSIjv0ifaChVC4ow1wdVa7mEbOIc88I\n",
       "zljVGMKGuB7ehgVoAbsCFrYCFJ07BGgvCA7Yuv5705bUSAD0KG02I0gE0vmrC6hGt/ISuMHwpZVr\n",
       "9CNGf+l6jNy63GCaP2O5/gAQrXTcW4WCXVHpFZoU+LC7ByvtecUxF1w2l9knzhUZVVEMulAAekEA\n",
       "AADRQZqFSeEPJlMCCP/+tSqAAAV36DDL2k99iKA6BDl9/Bj5AAC9bV/4xAhpSa0+WwhIJL3/hhxx\n",
       "QMtx8v4CJb3opwWQxTeTLP+Lc+jnFtP/3j9JtZOnLnkxVYWV6zJLxkcwqfT2CEEyhg+SEl3zcfsX\n",
       "QIBPMdsI3MgA95MAMZVveC6ZCWILYILYEG1MIXeX7i+viymUlOGm9Ccvp/JDh+id/jZAAp3b/shi\n",
       "MJpq98nv6jKA2izXY/jtUDoMyeeKbpZf26toQFIAHQ5+mGxxaluABqUAAADAQZqmSeEPJlMCCP/+\n",
       "tSqAAADBfHzJXTYOrblrL4ivyRuT8LLr/8HJSgAbSksXFSD5pnLr44BFst8nY9vVa6oQ0IiIWjdh\n",
       "kkBHRW9KkLAKtDyq24Yap0bokpxfqLrM898m2twrOUDUuk3w1muqsAHty0V27YPSdMXMyWAxj5wl\n",
       "j/4/i4R8iyBpzaqoiBY9eYgcr6AyhKcygbMJSeTlBeltwGr6gP+itMJ44npsFu5uUtWnuDPt2GyB\n",
       "vV7AKOhAAAZdAAABEEGayEnhDyZTBRE8Ef/+tSqABEeZvtTkpMwVMgjhSVyIMf3euPstWAkhwclv\n",
       "wga9GTVOI+YdYkrSxQjqgXcoAF8pc/1doD6x2TeQuse3wgXfzFWNwh9RATbKDYlpm0sDIbA4R5Ij\n",
       "kyk82qB/NHteOD2JDEtABzIkrvE5YeqTPvgWYouT76A+GxTHkqSzqcGVdSW1q4nCmGzUDFddDYU+\n",
       "xzEW28sjusK2UwlXrdusG66HM6H4XnsuTzRxPLNFqfpA4KsUARTudj1byIp/aBI02UFIaCEZ56Si\n",
       "ydnMTWLiXtT/d/ZOjkZ+39XTdsDrpCZklTjTo/2d1m5lQmSIqo75o8sF5MXJJcW5BnnlkzsgABZR\n",
       "AAAAtAGe52pDvwAAAwK4R2PXKSAZMey0/7PKhnujVQA0FkUnDtiuqlxz8aMAIgPbCycZEnQ01rJn\n",
       "7gWOS7vTpp67nVWEiiYAR36shJfIDWRKeUbf/NkLMPrlY2n1dg78/N1fNDoxj4aAhHsosuN+qJez\n",
       "jNS1ZVSEuvDm5ubfeOnaMd60wkfneBgp/x/VoK2GuTOgvVaijSQcLjuU6iMQS1ZyevHj4bqokqqs\n",
       "/a7oTc8GmLixVQALuAAAALBBmupJ4Q8mUwU8Ef/+tSqAAACqfQYZezYhAapJVmVqrN7MVym3Ogf7\n",
       "MAD+kaxcMKpEwuniqMQOWtwC0fpe61v+KFlWsgvLBVDO17kMoJ4MPWJlLXBlL/Il+W4MWNmiKWES\n",
       "BXRz2iAMuAf43WgfgoyStbrcHu60EsfUHcuvZlaOXU0XH/B/zj9w1esVEjPSqmb9xnT6yZvrCVtw\n",
       "QnHtiGxC9qkfGT8Doe1Iy9NBrsAiYAAAAMEBnwlqQ78AAAMClGKblpR4tfsHblJ/OEfbYAE613qm\n",
       "svBs2i2Lt9CaHniQEZfg7jr2GSXf/sjLbT9dERPAaeMbKZ84i4al5k0+swJ4MjPIeyCAKrAqcxyL\n",
       "BnBJB5IqHNe3C6dpX5llygnIzQIOilaYtj4DKhnA5qQu7rT3fduKPRazAecQGVV615yZ4v/47uUB\n",
       "1AG2MmA8MHK7eKFlH79THREJ+8LwLoH5Hc8bcxSeyuOJPtQw+ZBBdA0P8fU6YYGzAAAA4UGbC0nh\n",
       "DyZTAgj//rUqgASBnnZZyh4DieeHUUce9nJmp2LkkiYSFC+XDRZegG5914DEJhfVMuqm1SYnCZHD\n",
       "HuqZlAtNvU5Gi7Pt9/qwEKJcOksCQq5n18bVTFPY6p+5Gsq1OTU9MzcZQFQrujAxdOaYXoQfejUS\n",
       "lTsW41p+PI7EJStFl3+HsBEw3HRElI7UnMXRx4wvdh8VGIv04xARZlK/yaHlkwdGXXaxlzuZ4doi\n",
       "sHu/iTUzLwJoyFsQjIAa0sMG69xYrVg4uVA8nPxO58rlPdyPSLP0ZH27Iu5aoACVgAAAAK9BmyxJ\n",
       "4Q8mUwIJf/61KoAAAN5zJnERUyfxqx2bXx/QC9pqCUa3rSiDmhag5NgT7xK5zXGbpP3WOFZ/gbFz\n",
       "fC6Hrc/ucPUUrQ8aH/wrWo/oPhq2Jfi/jEOuRtNTZPPX0vKbhTYjNUCE/3qp7yeS+7tQ5kjELZMV\n",
       "YorpX0OSi6AvXtiEbR7z8EOLOIyLw8RX1rshXZyJGqAiqK76kNPDjo74gho4RenDlzn/vtx2QI8u\n",
       "AAABDUGbTknhDyZTBRE8Ev/+tSqAAAJw9SLmltCj8asdtZSjLJWV8//+q5jWQaTvIaEloAKcFsip\n",
       "FWkXsV+ym878oTB4Wg+vVd60NNrRHcZdJkUg2NtD2NcoGMvBAT2pRLqUc+xqgX+iYaN7Tsvpvetu\n",
       "OebmwK8UW61PgffX5GfrTq+1a14swDO2t9pzV+0Sj+pTe4Oq2MTGEKkt0TALZat+rOpCJrPYbB4O\n",
       "/n3ubVMw31i/c7OyTi9pIp2FpEon138lIRs0AbNsbbgoEW22SWZdYKDJ+5hXHXqWaPqIvY8rEGHL\n",
       "CwDqnJs/muWpLIxB2nh2gGdZ+AnUJ/OcdS3jsY8GvbQZj2er/AbMMaCwOWYFAAAA2wGfbWpDvwAA\n",
       "CYOT9o993vznMXdt5gx8DGcwlJEAEBBg+roEHGkrRaPHqCRBZ7EeQKt3Mn6UeQSGSlhmVAATruBq\n",
       "VftDHMIc27nm9v4OxtYNYtYhS9EtKKf3VyM3Knpe9pPToh+3jS+3RyAAAAy/TEJxiQ1leySuXY3e\n",
       "gsi181hTybanhZIP66FeWw/JfMTR7gSZIPE6yQPY7N8rTwyFw22e52o4S4JZMC17pdOdN6XagSC7\n",
       "KzE/1YAYYbSLMaTHPfKUVw6vYfONn16LsI9Ln3f3UGZoaOdCwWCJgQAAAWdBm3FJ4Q8mUwII//61\n",
       "KoAABsuZNU40PId9m0d5zsceyll2wCuBNICiCP+kvHmgAqT6Vlg59qjBxAdSE7wDUDN7ElDn8GqS\n",
       "Vjtxe+rQPs54he9W70F7BxynaDO/99RL7CqVm0OLyjNf/0tT3g6eMFE+QEAWhkAMAliY+j69JqXt\n",
       "xKy3kTJIN8pv/xHFZQ+AWD9m5Cxq7GJrC57/tg2mfXxujuEvsetPl+iIgHCT67/xnA5VlHLjwbrf\n",
       "6+WgfA6+i69zxyvM50THPLjzaYIwlq8BV8nEwRYY45Ss6FMv5A+5e602cB4q7fIvx2ozqHen6hEq\n",
       "klLgzNCekb+s82H4E+VHvN4q411t0IEGpfMIEzHsoQ9gmZf/Jb58JLXZj9KuzU94cy8GtDgJJB30\n",
       "wCzUQor8CGX4fpvgWSmvz9zUt/5YrJyARBcoTKWUFDrcVxN8qTehdyNq8aMi0RNks6wnqb2Gn0Fx\n",
       "u8CTgQAAAQBBn49FETw//wAAEtaPyZS2BvADGgAvYysGKbdKyFrsyPH082ow75C929xN2GgLXNYU\n",
       "5epdASOxgZEv/ZdBYBDbyZSxv3/1mwyuzWtMb+tFTLfVWzm/hC7XsCwFW5OfgPWnwGorAgx1X3R7\n",
       "K4CEPWEWOKfrt1U1wq7NS6pbs6ZxDAAHL6Znlv9ehEJMedNIPYC8L9XCADvZfe2VY1Yq7H6Y0awV\n",
       "TDR8AToGjMoAhqiCDor5GEhHdA4ItvR/waP0tTQ2Y0/ypJRr0rCdNnrMSVscqpq9e9n+hN0r76G8\n",
       "hTK/jMmhNv+XPB7vgsR710pZWpcbMH4fN82YxbInFAwIOoNWAAAAYQGfsGpDvwAAAwAKUYzKx5c8\n",
       "G2vCub1ByVoCotLpT3HrGeb3EADaUBFOVMJqjaV4fV+DH8MF5ynCXE5AD1vz1BfhoW7qo/qqgAsM\n",
       "WJaGaVzI7tCGu4S4D6hphhePCzIj/cAAAADSQZuySahBaJlMCCX//rUqgAAAAwBVPokU0d292w6Y\n",
       "KhXRpPBhDDORvxYn+BEhEADsZX/9/gR7jbAi4+pbTyrnTibB8IXXzUPH+C9q67avriRRNRtT1wRT\n",
       "Hq4VoaqQJGtQ7SdgItnudmskPzK06Fol2keMQfq8g5Z8SLrNiF1/egsGeJLHB6uzXPw44x6w29ki\n",
       "XbCl5BpnueuqsNzmHGOfGWdMBdOa8Gq1L1yFCQyI/IOnkKJVBEMS92qOcfLxP44hNKoDOC2fC+Zh\n",
       "N1o9gSruhW6lAAAAy0Gb00nhClJlMCCf//61KoAAAAMAW/6YHFbEJaE2bzMC0AB1FWHsdbX8Oya/\n",
       "gP0NlT/WplqnGAwbHTDQmT3PA2ir/CTEfHTcUI5qkRvvMljaLlg46nL6Z9gG5iZddNr920EUVFPT\n",
       "suivO497vflof0yAyZ8LCYqMz1n7mjCEe4g1OvXsq9yecYG+0ofbzwBcxkm08jmlqJUc4J17uJWw\n",
       "c+/XYnwXkEEM/4lGnBgKQ//i5G3PuBhHY2D0SDHuvJSKsAX3j8AKHTRwsRiwAAAAXUGb90nhDomU\n",
       "wIJ//rUqgAAAAwAcn5SjvXUYSdY2yKOuZ2GTIKYAdEtX/4JCwCilFLZu9uPk5ffZEt/10zRSbfha\n",
       "o6WoE0MwLd3uwDTX0xB1/v7/MzujUNSGfSsccAAAACNBnhVFETw//wAAAwAAT4nPsQnjQCu2doAH\n",
       "hXA89MwCTrNWwQAAACMBnjR0Q78AAAMAAG8x4jxyxIq6/r79HwCpb9c5bYd40s9D5gAAABABnjZq\n",
       "Q78AAAMAAAMAABZxAAAAGUGaO0moQWiZTAgn//61KoAAAAMAAAMABcUAAAASQZ5ZRREsP/8AAAMA\n",
       "AAMAAA+YAAAAEAGeeHRDvwAAAwAAAwAAFnEAAAAQAZ56akO/AAADAAADAAAWcAAAABlBmn9JqEFs\n",
       "mUwIJ//+tSqAAAADAAADAAXFAAAAEkGenUUVLD//AAADAAADAAAPmQAAABABnrx0Q78AAAMAAAMA\n",
       "ABZwAAAAEAGevmpDvwAAAwAAAwAAFnAAAAAZQZqjSahBbJlMCCf//rUqgAAAAwAAAwAFxQAAABJB\n",
       "nsFFFSw//wAAAwAAAwAAD5gAAAAQAZ7gdEO/AAADAAADAAAWcQAAABABnuJqQ78AAAMAAAMAABZw\n",
       "AAAAGUGa50moQWyZTAgn//61KoAAAAMAAAMABcUAAAASQZ8FRRUsP/8AAAMAAAMAAA+ZAAAAEAGf\n",
       "JHRDvwAAAwAAAwAAFnEAAAAQAZ8makO/AAADAAADAAAWcQAAABlBmytJqEFsmUwIJ//+tSqAAAAD\n",
       "AAADAAXEAAAAEkGfSUUVLD//AAADAAADAAAPmAAAABABn2h0Q78AAAMAAAMAABZxAAAAEAGfampD\n",
       "vwAAAwAAAwAAFnAAAAAZQZtvSahBbJlMCCf//rUqgAAAAwAAAwAFxAAAABJBn41FFSw//wAAAwAA\n",
       "AwAAD5kAAAAQAZ+sdEO/AAADAAADAAAWcQAAABABn65qQ78AAAMAAAMAABZxAAAAGUGbs0moQWyZ\n",
       "TAgn//61KoAAAAMAAAMABcQAAAASQZ/RRRUsP/8AAAMAAAMAAA+YAAAAEAGf8HRDvwAAAwAAAwAA\n",
       "FnEAAAAQAZ/yakO/AAADAAADAAAWcAAAABlBm/dJqEFsmUwIJ//+tSqAAAADAAADAAXEAAAAEkGe\n",
       "FUUVLD//AAADAAADAAAPmQAAABABnjR0Q78AAAMAAAMAABZwAAAAEAGeNmpDvwAAAwAAAwAAFnEA\n",
       "AAAZQZo7SahBbJlMCCf//rUqgAAAAwAAAwAFxQAAABJBnllFFSw//wAAAwAAAwAAD5gAAAAQAZ54\n",
       "dEO/AAADAAADAAAWcQAAABABnnpqQ78AAAMAAAMAABZwAAAAGUGaf0moQWyZTAgn//61KoAAAAMA\n",
       "AAMABcUAAAASQZ6dRRUsP/8AAAMAAAMAAA+ZAAAAEAGevHRDvwAAAwAAAwAAFnAAAAAQAZ6+akO/\n",
       "AAADAAADAAAWcAAAABlBmqNJqEFsmUwIJ//+tSqAAAADAAADAAXFAAAAEkGewUUVLD//AAADAAAD\n",
       "AAAPmAAAABABnuB0Q78AAAMAAAMAABZxAAAAEAGe4mpDvwAAAwAAAwAAFnAAAAAZQZrnSahBbJlM\n",
       "CCf//rUqgAAAAwAAAwAFxQAAABJBnwVFFSw//wAAAwAAAwAAD5kAAAAQAZ8kdEO/AAADAAADAAAW\n",
       "cQAAABABnyZqQ78AAAMAAAMAABZxAAAAGUGbK0moQWyZTAgn//61KoAAAAMAAAMABcQAAAASQZ9J\n",
       "RRUsP/8AAAMAAAMAAA+YAAAAEAGfaHRDvwAAAwAAAwAAFnEAAAAQAZ9qakO/AAADAAADAAAWcAAA\n",
       "ABlBm29JqEFsmUwIJ//+tSqAAAADAAADAAXEAAAAEkGfjUUVLD//AAADAAADAAAPmQAAABABn6x0\n",
       "Q78AAAMAAAMAABZxAAAAEAGfrmpDvwAAAwAAAwAAFnEAAAAZQZuzSahBbJlMCCX//rUqgAAAAwAA\n",
       "AwAFxAAAABJBn9FFFSw//wAAAwAAAwAAD5gAAAAQAZ/wdEO/AAADAAADAAAWcQAAABABn/JqQ78A\n",
       "AAMAAAMAABZwAAAAGUGb90moQWyZTAgl//61KoAAAAMAAAMABcQAAAASQZ4VRRUsP/8AAAMAAAMA\n",
       "AA+ZAAAAEAGeNHRDvwAAAwAAAwAAFnAAAAAQAZ42akO/AAADAAADAAAWcQAAABlBmjtJqEFsmUwI\n",
       "Jf/+tSqAAAADAAADAAXFAAAAEkGeWUUVLD//AAADAAADAAAPmAAAABABnnh0Q78AAAMAAAMAABZx\n",
       "AAAAEAGeempDvwAAAwAAAwAAFnAAAAAZQZp/SahBbJlMCCP//rUqgAAAAwAAAwAFxQAAABJBnp1F\n",
       "FSw//wAAAwAAAwAAD5kAAAAQAZ68dEO/AAADAAADAAAWcAAAABABnr5qQ78AAAMAAAMAABZwAAAA\n",
       "GUGao0moQWyZTAh3//6plgAAAwAAAwAALOEAAAASQZ7BRRUsP/8AAAMAAAMAAA+YAAAAEAGe4HRD\n",
       "vwAAAwAAAwAAFnEAAAAQAZ7iakO/AAADAAADAAAWcAAAB7Jtb292AAAAbG12aGQAAAAAAAAAAAAA\n",
       "AAAAAAPoAAA6mAABAAABAAAAAAAAAAAAAAAAAQAAAAAAAAAAAAAAAAAAAAEAAAAAAAAAAAAAAAAA\n",
       "AEAAAAAAAAAAAAAAAAAAAAAAAAAAAAAAAAAAAAAAAAACAAAG3HRyYWsAAABcdGtoZAAAAAMAAAAA\n",
       "AAAAAAAAAAEAAAAAAAA6mAAAAAAAAAAAAAAAAAAAAAAAAQAAAAAAAAAAAAAAAAAAAAEAAAAAAAAA\n",
       "AAAAAAAAAEAAAAACgAAAAeAAAAAAACRlZHRzAAAAHGVsc3QAAAAAAAAAAQAAOpgAAAwAAAEAAAAA\n",
       "BlRtZGlhAAAAIG1kaGQAAAAAAAAAAAAAAAAAACgAAAJYAFXEAAAAAAAtaGRscgAAAAAAAAAAdmlk\n",
       "ZQAAAAAAAAAAAAAAAFZpZGVvSGFuZGxlcgAAAAX/bWluZgAAABR2bWhkAAAAAQAAAAAAAAAAAAAA\n",
       "JGRpbmYAAAAcZHJlZgAAAAAAAAABAAAADHVybCAAAAABAAAFv3N0YmwAAAC3c3RzZAAAAAAAAAAB\n",
       "AAAAp2F2YzEAAAAAAAAAAQAAAAAAAAAAAAAAAAAAAAACgAHgAEgAAABIAAAAAAAAAAEAAAAAAAAA\n",
       "AAAAAAAAAAAAAAAAAAAAAAAAAAAAAAAAAAAY//8AAAA1YXZjQwFkABb/4QAYZ2QAFqzZQKA9oQAA\n",
       "AwADAAADACgPFi2WAQAGaOvjyyLA/fj4AAAAABx1dWlka2hA8l8kT8W6OaUbzwMj8wAAAAAAAAAY\n",
       "c3R0cwAAAAAAAAABAAAAZAAABgAAAAAUc3RzcwAAAAAAAAABAAAAAQAAAwBjdHRzAAAAAAAAAF4A\n",
       "AAADAAAMAAAAAAEAABIAAAAAAQAABgAAAAACAAAMAAAAAAEAABIAAAAAAQAABgAAAAABAAASAAAA\n",
       "AAEAAAYAAAAAAgAADAAAAAABAAASAAAAAAEAAAYAAAAAAQAAGAAAAAACAAAGAAAAAAIAAAwAAAAA\n",
       "AQAAHgAAAAABAAAMAAAAAAEAAAAAAAAAAQAABgAAAAABAAAeAAAAAAEAAAwAAAAAAQAAAAAAAAAB\n",
       "AAAGAAAAAAEAAB4AAAAAAQAADAAAAAABAAAAAAAAAAEAAAYAAAAAAQAAHgAAAAABAAAMAAAAAAEA\n",
       "AAAAAAAAAQAABgAAAAABAAAeAAAAAAEAAAwAAAAAAQAAAAAAAAABAAAGAAAAAAEAAB4AAAAAAQAA\n",
       "DAAAAAABAAAAAAAAAAEAAAYAAAAAAQAAHgAAAAABAAAMAAAAAAEAAAAAAAAAAQAABgAAAAABAAAe\n",
       "AAAAAAEAAAwAAAAAAQAAAAAAAAABAAAGAAAAAAEAAB4AAAAAAQAADAAAAAABAAAAAAAAAAEAAAYA\n",
       "AAAAAQAAHgAAAAABAAAMAAAAAAEAAAAAAAAAAQAABgAAAAABAAAeAAAAAAEAAAwAAAAAAQAAAAAA\n",
       "AAABAAAGAAAAAAEAAB4AAAAAAQAADAAAAAABAAAAAAAAAAEAAAYAAAAAAQAAHgAAAAABAAAMAAAA\n",
       "AAEAAAAAAAAAAQAABgAAAAABAAAeAAAAAAEAAAwAAAAAAQAAAAAAAAABAAAGAAAAAAEAAB4AAAAA\n",
       "AQAADAAAAAABAAAAAAAAAAEAAAYAAAAAAQAAHgAAAAABAAAMAAAAAAEAAAAAAAAAAQAABgAAAAAB\n",
       "AAAeAAAAAAEAAAwAAAAAAQAAAAAAAAABAAAGAAAAAAEAAB4AAAAAAQAADAAAAAABAAAAAAAAAAEA\n",
       "AAYAAAAAAQAAHgAAAAABAAAMAAAAAAEAAAAAAAAAAQAABgAAAAABAAAeAAAAAAEAAAwAAAAAAQAA\n",
       "AAAAAAABAAAGAAAAABxzdHNjAAAAAAAAAAEAAAABAAAAZAAAAAEAAAGkc3RzegAAAAAAAAAAAAAA\n",
       "ZAAACkAAAAFJAAAAfwAAALMAAACpAAAA1QAAAMQAAAEUAAAAuAAAALQAAADFAAAA5QAAALMAAAER\n",
       "AAAA3wAAAWsAAAEEAAAAZQAAANYAAADPAAAAYQAAACcAAAAnAAAAFAAAAB0AAAAWAAAAFAAAABQA\n",
       "AAAdAAAAFgAAABQAAAAUAAAAHQAAABYAAAAUAAAAFAAAAB0AAAAWAAAAFAAAABQAAAAdAAAAFgAA\n",
       "ABQAAAAUAAAAHQAAABYAAAAUAAAAFAAAAB0AAAAWAAAAFAAAABQAAAAdAAAAFgAAABQAAAAUAAAA\n",
       "HQAAABYAAAAUAAAAFAAAAB0AAAAWAAAAFAAAABQAAAAdAAAAFgAAABQAAAAUAAAAHQAAABYAAAAU\n",
       "AAAAFAAAAB0AAAAWAAAAFAAAABQAAAAdAAAAFgAAABQAAAAUAAAAHQAAABYAAAAUAAAAFAAAAB0A\n",
       "AAAWAAAAFAAAABQAAAAdAAAAFgAAABQAAAAUAAAAHQAAABYAAAAUAAAAFAAAAB0AAAAWAAAAFAAA\n",
       "ABQAAAAUc3RjbwAAAAAAAAABAAAAMAAAAGJ1ZHRhAAAAWm1ldGEAAAAAAAAAIWhkbHIAAAAAAAAA\n",
       "AG1kaXJhcHBsAAAAAAAAAAAAAAAALWlsc3QAAAAlqXRvbwAAAB1kYXRhAAAAAQAAAABMYXZmNTku\n",
       "MjcuMTAw\n",
       "\">\n",
       "  Your browser does not support the video tag.\n",
       "</video>"
      ],
      "text/plain": [
       "<IPython.core.display.HTML object>"
      ]
     },
     "metadata": {},
     "output_type": "display_data"
    }
   ],
   "source": [
    "# Create an initial grid with some cells set to 1\n",
    "m = np.zeros((10, 10))\n",
    "m[1:4, 3] = 1\n",
    "m[3, 2] = 1\n",
    "m[2, 1] = 1\n",
    "\n",
    "fig, ax = plt.subplots()\n",
    "im = plt.imshow(m)\n",
    "\n",
    "def next_frame(i):\n",
    "    global m\n",
    "    m = update(m)\n",
    "    im.set_array(m)\n",
    "    return im\n",
    "\n",
    "anim = FuncAnimation(fig, partial(next_frame), frames=100, interval=150, blit=False)\n",
    "\n",
    "video = anim.to_html5_video()\n",
    "html = display.HTML(video)\n",
    "display.display(html)\n",
    "plt.close()"
   ]
  }
 ],
 "metadata": {
  "kernelspec": {
   "display_name": "Python 3 (ipykernel)",
   "language": "python",
   "name": "python3"
  },
  "language_info": {
   "codemirror_mode": {
    "name": "ipython",
    "version": 3
   },
   "file_extension": ".py",
   "mimetype": "text/x-python",
   "name": "python",
   "nbconvert_exporter": "python",
   "pygments_lexer": "ipython3",
   "version": "3.10.8"
  }
 },
 "nbformat": 4,
 "nbformat_minor": 5
}
